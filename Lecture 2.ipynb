{
 "cells": [
  {
   "cell_type": "markdown",
   "metadata": {},
   "source": [
    "# Lecture 2"
   ]
  },
  {
   "cell_type": "markdown",
   "metadata": {},
   "source": [
    "## A few more words on lists (and strings)\n",
    "\n",
    "We have briefly encountered lists in the previous lecture. These are roughly sequences of data. Lists are defined as sequences of elements separated by commas and enclosed by square brackets. Each of the element can be accessed by calling it's index value.\n",
    "\n",
    "Lists are declared by just equating a variable to `[]` or using `list()`."
   ]
  },
  {
   "cell_type": "code",
   "execution_count": 1,
   "metadata": {
    "collapsed": true
   },
   "outputs": [],
   "source": [
    "a = []"
   ]
  },
  {
   "cell_type": "code",
   "execution_count": 2,
   "metadata": {
    "collapsed": false
   },
   "outputs": [
    {
     "data": {
      "text/plain": [
       "True"
      ]
     },
     "execution_count": 2,
     "metadata": {},
     "output_type": "execute_result"
    }
   ],
   "source": [
    "a == list()"
   ]
  },
  {
   "cell_type": "markdown",
   "metadata": {},
   "source": [
    "One can directly populate a list by writing down its elements"
   ]
  },
  {
   "cell_type": "code",
   "execution_count": 3,
   "metadata": {
    "collapsed": true
   },
   "outputs": [],
   "source": [
    "fruits = [\"apples\", \"oranges\", \"bananas\", \"kiwis\", \"pineapples\"]"
   ]
  },
  {
   "cell_type": "markdown",
   "metadata": {},
   "source": [
    "Differently from matlab, in python lists are indexed starting from $0$. Thus the list `fruits`, has \"apples\" at index 0, \"oranges\" at index 1 and bananas at index 2.\n",
    "\n",
    "To direcly access the elements in a list you just append `[index]` to the list name."
   ]
  },
  {
   "cell_type": "code",
   "execution_count": 4,
   "metadata": {
    "collapsed": false
   },
   "outputs": [
    {
     "data": {
      "text/plain": [
       "'apples'"
      ]
     },
     "execution_count": 4,
     "metadata": {},
     "output_type": "execute_result"
    }
   ],
   "source": [
    "fruits[0]"
   ]
  },
  {
   "cell_type": "code",
   "execution_count": 5,
   "metadata": {
    "collapsed": false
   },
   "outputs": [
    {
     "data": {
      "text/plain": [
       "'kiwis'"
      ]
     },
     "execution_count": 5,
     "metadata": {},
     "output_type": "execute_result"
    }
   ],
   "source": [
    "fruits[3]"
   ]
  },
  {
   "cell_type": "markdown",
   "metadata": {},
   "source": [
    "We can even read the list starting from the bottom"
   ]
  },
  {
   "cell_type": "code",
   "execution_count": 6,
   "metadata": {
    "collapsed": false
   },
   "outputs": [
    {
     "data": {
      "text/plain": [
       "'pineapples'"
      ]
     },
     "execution_count": 6,
     "metadata": {},
     "output_type": "execute_result"
    }
   ],
   "source": [
    "fruits[-1]"
   ]
  },
  {
   "cell_type": "code",
   "execution_count": 7,
   "metadata": {
    "collapsed": false
   },
   "outputs": [
    {
     "data": {
      "text/plain": [
       "'kiwis bananas'"
      ]
     },
     "execution_count": 7,
     "metadata": {},
     "output_type": "execute_result"
    }
   ],
   "source": [
    "fruits[-2] + \" \" + fruits[2]"
   ]
  },
  {
   "cell_type": "markdown",
   "metadata": {},
   "source": [
    "Of course lists can be nested"
   ]
  },
  {
   "cell_type": "code",
   "execution_count": 14,
   "metadata": {
    "collapsed": false
   },
   "outputs": [
    {
     "name": "stdout",
     "output_type": "stream",
     "text": [
      "l1 = [1, 2, 3] \n",
      "l2 = [7, 8, 9] \n",
      "l3 = [[1, 2, 3], [7, 8, 9]]\n"
     ]
    }
   ],
   "source": [
    "l1 = [1,2,3]\n",
    "l2 = [7,8,9]\n",
    "\n",
    "l3 = [l1, l2]\n",
    "\n",
    "print(\"l1 =\", l1, \"\\nl2 =\", l2, \"\\nl3 =\", l3)"
   ]
  },
  {
   "cell_type": "code",
   "execution_count": 9,
   "metadata": {
    "collapsed": false
   },
   "outputs": [
    {
     "data": {
      "text/plain": [
       "[1, 2, 3]"
      ]
     },
     "execution_count": 9,
     "metadata": {},
     "output_type": "execute_result"
    }
   ],
   "source": [
    "l3[0]"
   ]
  },
  {
   "cell_type": "code",
   "execution_count": 10,
   "metadata": {
    "collapsed": false
   },
   "outputs": [
    {
     "data": {
      "text/plain": [
       "3"
      ]
     },
     "execution_count": 10,
     "metadata": {},
     "output_type": "execute_result"
    }
   ],
   "source": [
    "l1[2]"
   ]
  },
  {
   "cell_type": "code",
   "execution_count": 11,
   "metadata": {
    "collapsed": false
   },
   "outputs": [
    {
     "data": {
      "text/plain": [
       "3"
      ]
     },
     "execution_count": 11,
     "metadata": {},
     "output_type": "execute_result"
    }
   ],
   "source": [
    "l3[0][2] # = l1[2] = 3"
   ]
  },
  {
   "cell_type": "markdown",
   "metadata": {},
   "source": [
    "You can use the indexing to modify specific elements"
   ]
  },
  {
   "cell_type": "code",
   "execution_count": 15,
   "metadata": {
    "collapsed": false
   },
   "outputs": [
    {
     "name": "stdout",
     "output_type": "stream",
     "text": [
      "l3 was defined as [l1, l2]: [[1, 2, 3], [7, 8, 9]]\n",
      "we are going to modify l2...\n",
      "now l2 is [15, 8, 9]\n",
      "and l3 changed as well: [[1, 2, 3], [15, 8, 9]]\n"
     ]
    }
   ],
   "source": [
    "print(\"l3 was defined as [l1, l2]:\", l3)\n",
    "\n",
    "print(\"we are going to modify l2...\")\n",
    "l2[0] = 15 \n",
    "\n",
    "print(\"now l2 is\", l2)\n",
    "print(\"and l3 changed as well:\", l3) # note that this changed l3 as well... be careful with lists"
   ]
  },
  {
   "cell_type": "markdown",
   "metadata": {},
   "source": [
    "To save memory and gain speed python (as well as other languages) will refer to the original list without making a copy, this means that modifying the other lists, you modify any of the inner lists, will modify also how it appear in the list that contains it (see l2 and l3 in the example above)"
   ]
  },
  {
   "cell_type": "markdown",
   "metadata": {},
   "source": [
    "### Slices\n",
    "\n",
    "\n",
    "Indexing allows you to access a single element, Slicing brings this to the next level allowing you to access a sequence of data inside the list. In other words \"slicing\" the list.\n",
    "\n",
    "Slicing is done by defining the index values of the first and the last element that you need from the parent list. It is written as `parentlist[ a : b ]` where `a, b` are the extremal index values. If `a` or `b` is not specified then the index value is considered to be the first value for `a` if `a` is not defined and the last value for `b` when `b` is not defined."
   ]
  },
  {
   "cell_type": "code",
   "execution_count": 17,
   "metadata": {
    "collapsed": true
   },
   "outputs": [],
   "source": [
    "num = [0,1,2,3,4,5,6,7,8,9]"
   ]
  },
  {
   "cell_type": "code",
   "execution_count": 18,
   "metadata": {
    "collapsed": false
   },
   "outputs": [
    {
     "name": "stdout",
     "output_type": "stream",
     "text": [
      "[0, 1, 2, 3]\n",
      "[4, 5, 6, 7, 8, 9]\n"
     ]
    }
   ],
   "source": [
    "print(num[0:4])\n",
    "print(num[4:])"
   ]
  },
  {
   "cell_type": "markdown",
   "metadata": {},
   "source": [
    "You can also choose a step in the slicing process"
   ]
  },
  {
   "cell_type": "code",
   "execution_count": 19,
   "metadata": {
    "collapsed": false
   },
   "outputs": [
    {
     "name": "stdout",
     "output_type": "stream",
     "text": [
      "[5, 7]\n",
      "[0, 3, 6]\n"
     ]
    }
   ],
   "source": [
    "print(num[5:8:2])\n",
    "print(num[:9:3])"
   ]
  },
  {
   "cell_type": "markdown",
   "metadata": {},
   "source": [
    "To find the length of the list or the number of elements in a list, use the function `len()`. The functions `min()` and `max()` will return respectively the minimum and the maximum value in the list. The sum of two lists is a concatenated list."
   ]
  },
  {
   "cell_type": "code",
   "execution_count": 20,
   "metadata": {
    "collapsed": false
   },
   "outputs": [
    {
     "data": {
      "text/plain": [
       "[1, 2, 3, 15, 8, 9]"
      ]
     },
     "execution_count": 20,
     "metadata": {},
     "output_type": "execute_result"
    }
   ],
   "source": [
    "l1 + l2"
   ]
  },
  {
   "cell_type": "code",
   "execution_count": 21,
   "metadata": {
    "collapsed": false
   },
   "outputs": [
    {
     "data": {
      "text/plain": [
       "10"
      ]
     },
     "execution_count": 21,
     "metadata": {},
     "output_type": "execute_result"
    }
   ],
   "source": [
    "len(num)"
   ]
  },
  {
   "cell_type": "code",
   "execution_count": 22,
   "metadata": {
    "collapsed": false
   },
   "outputs": [
    {
     "data": {
      "text/plain": [
       "2"
      ]
     },
     "execution_count": 22,
     "metadata": {},
     "output_type": "execute_result"
    }
   ],
   "source": [
    "len(l3)"
   ]
  },
  {
   "cell_type": "code",
   "execution_count": 23,
   "metadata": {
    "collapsed": false
   },
   "outputs": [
    {
     "data": {
      "text/plain": [
       "1"
      ]
     },
     "execution_count": 23,
     "metadata": {},
     "output_type": "execute_result"
    }
   ],
   "source": [
    "min(l1+l2)"
   ]
  },
  {
   "cell_type": "code",
   "execution_count": 24,
   "metadata": {
    "collapsed": false
   },
   "outputs": [
    {
     "data": {
      "text/plain": [
       "9"
      ]
     },
     "execution_count": 24,
     "metadata": {},
     "output_type": "execute_result"
    }
   ],
   "source": [
    "max(num)"
   ]
  },
  {
   "cell_type": "markdown",
   "metadata": {},
   "source": [
    "To check if a value is present in a list you can use `in` as follows"
   ]
  },
  {
   "cell_type": "code",
   "execution_count": 25,
   "metadata": {
    "collapsed": false
   },
   "outputs": [
    {
     "name": "stdout",
     "output_type": "stream",
     "text": [
      "True\n",
      "False\n",
      "True\n",
      "False\n",
      "True\n"
     ]
    }
   ],
   "source": [
    "print(4 in num)\n",
    "print(4 in l1+l2)\n",
    "print(\"oranges\" in fruits)\n",
    "print(\"pears\" in fruits)\n",
    "print(3 in {1,2,3,4})"
   ]
  },
  {
   "cell_type": "markdown",
   "metadata": {},
   "source": [
    "You can generate lists of integer fastly using the function `range(start:stop:step)`"
   ]
  },
  {
   "cell_type": "code",
   "execution_count": 26,
   "metadata": {
    "collapsed": false
   },
   "outputs": [
    {
     "name": "stdout",
     "output_type": "stream",
     "text": [
      "range(6):  [0, 1, 2, 3, 4, 5]\n",
      "range(3, 9):  [3, 4, 5, 6, 7, 8]\n",
      "range(2, 9, 5):  [2, 7]\n"
     ]
    }
   ],
   "source": [
    "print(\"range(6): \", list(range(6)))\n",
    "print(\"range(3, 9): \", list(range(3,9)))\n",
    "print(\"range(2, 9, 5): \", list(range(2,9,5)))"
   ]
  },
  {
   "cell_type": "markdown",
   "metadata": {},
   "source": [
    "You can modify slices as for indexing and use [:] to copy a list"
   ]
  },
  {
   "cell_type": "code",
   "execution_count": 28,
   "metadata": {
    "collapsed": false
   },
   "outputs": [
    {
     "name": "stdout",
     "output_type": "stream",
     "text": [
      "num is [0, 1, 2, 3, 4, 5, 6, 7, 8, 9]\n",
      "num[3:5] was [3, 4]\n",
      "now num is [0, 1, 2, 11, 12, 5, 6, 7, 8, 9]\n",
      "but slicing made a copy in oldnum, so it is not changed: [0, 1, 2, 3, 4, 5, 6, 7, 8, 9]\n"
     ]
    }
   ],
   "source": [
    "num = list(range(10))\n",
    "print(\"num is\", num)\n",
    "\n",
    "# look at this slice!\n",
    "oldnum = num[:]\n",
    "\n",
    "print(\"num[3:5] was\", num[3:5])\n",
    "num[3:5] = [11,12]\n",
    "\n",
    "print(\"now num is\", num)\n",
    "print(\"but slicing made a copy in oldnum, so it is not changed:\", oldnum)"
   ]
  },
  {
   "cell_type": "markdown",
   "metadata": {},
   "source": [
    "**Exercise 1**: programmatically obtain a list of even numbers from 2 to 78"
   ]
  },
  {
   "cell_type": "code",
   "execution_count": null,
   "metadata": {
    "collapsed": true
   },
   "outputs": [],
   "source": []
  },
  {
   "cell_type": "markdown",
   "metadata": {},
   "source": [
    "You can add elements to a list using `append()`. But there are many available functions."
   ]
  },
  {
   "cell_type": "code",
   "execution_count": 29,
   "metadata": {
    "collapsed": false
   },
   "outputs": [
    {
     "name": "stdout",
     "output_type": "stream",
     "text": [
      "[0, 1, 2, 11, 12, 5, 6, 7, 8, 9, 45]\n"
     ]
    }
   ],
   "source": [
    "num.append(45)\n",
    "print(num)"
   ]
  },
  {
   "cell_type": "markdown",
   "metadata": {},
   "source": [
    "**Exercise 2**: use the `help` function to find out what functions are available for lists"
   ]
  },
  {
   "cell_type": "code",
   "execution_count": null,
   "metadata": {
    "collapsed": false
   },
   "outputs": [],
   "source": [
    "help(list)"
   ]
  },
  {
   "cell_type": "code",
   "execution_count": 30,
   "metadata": {
    "collapsed": false
   },
   "outputs": [
    {
     "data": {
      "text/plain": [
       "['H', 'e', 'l', 'l', 'o']"
      ]
     },
     "execution_count": 30,
     "metadata": {},
     "output_type": "execute_result"
    }
   ],
   "source": [
    "hello = \"Hello\"\n",
    "list(hello)"
   ]
  },
  {
   "cell_type": "markdown",
   "metadata": {},
   "source": [
    "You can use slicing, indexing, len, in and other list features on strings as well!"
   ]
  },
  {
   "cell_type": "code",
   "execution_count": 31,
   "metadata": {
    "collapsed": false
   },
   "outputs": [
    {
     "data": {
      "text/plain": [
       "'l'"
      ]
     },
     "execution_count": 31,
     "metadata": {},
     "output_type": "execute_result"
    }
   ],
   "source": [
    "hello[2]"
   ]
  },
  {
   "cell_type": "code",
   "execution_count": 32,
   "metadata": {
    "collapsed": false
   },
   "outputs": [
    {
     "data": {
      "text/plain": [
       "'lo'"
      ]
     },
     "execution_count": 32,
     "metadata": {},
     "output_type": "execute_result"
    }
   ],
   "source": [
    "hello[3:6]"
   ]
  },
  {
   "cell_type": "markdown",
   "metadata": {},
   "source": [
    "But not all"
   ]
  },
  {
   "cell_type": "code",
   "execution_count": 33,
   "metadata": {
    "collapsed": false
   },
   "outputs": [
    {
     "ename": "TypeError",
     "evalue": "'str' object does not support item assignment",
     "output_type": "error",
     "traceback": [
      "\u001b[0;31m---------------------------------------------------------------------------\u001b[0m",
      "\u001b[0;31mTypeError\u001b[0m                                 Traceback (most recent call last)",
      "\u001b[0;32m<ipython-input-33-36b860417bc3>\u001b[0m in \u001b[0;36m<module>\u001b[0;34m()\u001b[0m\n\u001b[0;32m----> 1\u001b[0;31m \u001b[0mhello\u001b[0m\u001b[0;34m[\u001b[0m\u001b[0;36m2\u001b[0m\u001b[0;34m]\u001b[0m \u001b[0;34m=\u001b[0m \u001b[0;34m'r'\u001b[0m\u001b[0;34m\u001b[0m\u001b[0m\n\u001b[0m",
      "\u001b[0;31mTypeError\u001b[0m: 'str' object does not support item assignment"
     ]
    }
   ],
   "source": [
    "hello[2] = 'r'"
   ]
  },
  {
   "cell_type": "code",
   "execution_count": null,
   "metadata": {
    "collapsed": false
   },
   "outputs": [],
   "source": [
    "help(str)"
   ]
  },
  {
   "cell_type": "markdown",
   "metadata": {},
   "source": [
    "## Control flow"
   ]
  },
  {
   "cell_type": "markdown",
   "metadata": {},
   "source": [
    "### `if-elif-else`\n",
    "\n",
    "The `if` statement allows you to modify the flow of your program depending on some conditions.\n",
    "The simplest form is\n",
    "\n",
    "    if some_condition:\n",
    "        do something\n",
    "        do something\n",
    "        ...\n",
    "        do something\n",
    "\n",
    "Note that the indentation here is **very** important."
   ]
  },
  {
   "cell_type": "code",
   "execution_count": 36,
   "metadata": {
    "collapsed": false
   },
   "outputs": [
    {
     "name": "stdout",
     "output_type": "stream",
     "text": [
      "x is positive\n",
      "this runs only if x is positive\n",
      "not zero and not negative!!\n",
      "...this runs anyway\n"
     ]
    }
   ],
   "source": [
    "x = 3\n",
    "\n",
    "if x > 0:\n",
    "    print(\"x is positive\")\n",
    "    print(\"this runs only if x is positive\")\n",
    "    print(\"not zero and not negative!!\")\n",
    "\n",
    "print(\"...this runs anyway\")"
   ]
  },
  {
   "cell_type": "code",
   "execution_count": 37,
   "metadata": {
    "collapsed": false
   },
   "outputs": [
    {
     "name": "stdout",
     "output_type": "stream",
     "text": [
      "...this runs anyway\n"
     ]
    }
   ],
   "source": [
    "x = -32\n",
    "\n",
    "if x > 0:\n",
    "    print(\"x is positive\")\n",
    "    print(\"this runs only if x is positive\")\n",
    "    print(\"not zero and not negative!!\")\n",
    "\n",
    "print(\"...this runs anyway\")"
   ]
  },
  {
   "cell_type": "markdown",
   "metadata": {},
   "source": [
    "It is possible to merge those two mutually-exclusive `if`s by using the `if-else` construct.\n",
    "\n",
    "    if some_condition:\n",
    "        do something\n",
    "        ...\n",
    "        do something\n",
    "    else:\n",
    "        do something else\n",
    "        ...\n",
    "        do something else\n"
   ]
  },
  {
   "cell_type": "code",
   "execution_count": 38,
   "metadata": {
    "collapsed": false
   },
   "outputs": [
    {
     "name": "stdout",
     "output_type": "stream",
     "text": [
      "x is not positive\n",
      "y is 6\n"
     ]
    }
   ],
   "source": [
    "x = -7\n",
    "y = 0\n",
    "\n",
    "if x > 0:\n",
    "    y = x * 3\n",
    "    print(\"x is positive\")\n",
    "else:\n",
    "    y = -x - 1\n",
    "    print(\"x is not positive\")\n",
    "    \n",
    "print(\"y is\", y)"
   ]
  },
  {
   "cell_type": "markdown",
   "metadata": {},
   "source": [
    "If you have more branching tests, you can use the `if-elif-else` construct.\n",
    "\n",
    "\n",
    "    if some_condition:\n",
    "        do something\n",
    "    elif some_other_condition:\n",
    "        do something\n",
    "    else:\n",
    "        do something"
   ]
  },
  {
   "cell_type": "code",
   "execution_count": 39,
   "metadata": {
    "collapsed": false
   },
   "outputs": [
    {
     "name": "stdout",
     "output_type": "stream",
     "text": [
      "x < y\n"
     ]
    }
   ],
   "source": [
    "x = 10\n",
    "y = 12\n",
    "\n",
    "if x > y:\n",
    "    print(\"x > y\")\n",
    "elif x < y:\n",
    "    print(\"x < y\")\n",
    "else:\n",
    "    print(\"x = y\")"
   ]
  },
  {
   "cell_type": "markdown",
   "metadata": {},
   "source": [
    "Of course these statements can be nested"
   ]
  },
  {
   "cell_type": "code",
   "execution_count": 40,
   "metadata": {
    "collapsed": false
   },
   "outputs": [
    {
     "name": "stdout",
     "output_type": "stream",
     "text": [
      "y > 10\n"
     ]
    }
   ],
   "source": [
    "if x > y:\n",
    "    print(\"x > y\")\n",
    "elif x < y:\n",
    "    if x == 10:\n",
    "        print(\"y > 10\")\n",
    "    elif y != 2:\n",
    "        print(\"x < y and y is not 2\")\n",
    "    else:\n",
    "        print(\"x < y\")\n",
    "else:\n",
    "    print(\"x = y\")"
   ]
  },
  {
   "cell_type": "markdown",
   "metadata": {},
   "source": [
    "## Loops"
   ]
  },
  {
   "cell_type": "markdown",
   "metadata": {},
   "source": [
    "### for loops"
   ]
  },
  {
   "cell_type": "markdown",
   "metadata": {},
   "source": [
    "One of the most useful things you can do with lists is to iterate through them, i.e. to go through each element one at a time. To do this in Python, we use the `for` statement\n",
    "\n",
    "    for item in some_list:\n",
    "        do something with item\n",
    "        ...\n",
    "        "
   ]
  },
  {
   "cell_type": "code",
   "execution_count": 81,
   "metadata": {
    "collapsed": false
   },
   "outputs": [
    {
     "name": "stdout",
     "output_type": "stream",
     "text": [
      "The square of 0 is 0\n",
      "The square of 1 is 1\n",
      "The square of 2 is 4\n",
      "The square of 3 is 9\n",
      "The square of 4 is 16\n",
      "The square of 5 is 25\n",
      "The square of 6 is 36\n",
      "The square of 7 is 49\n",
      "The square of 8 is 64\n",
      "The square of 9 is 81\n",
      "The square of 10 is 100\n",
      "The square of 11 is 121\n",
      "The square of 12 is 144\n",
      "The square of 13 is 169\n",
      "The square of 14 is 196\n",
      "The square of 15 is 225\n",
      "The square of 16 is 256\n",
      "The square of 17 is 289\n",
      "The square of 18 is 324\n",
      "The square of 19 is 361\n"
     ]
    }
   ],
   "source": [
    "for i in range(20):\n",
    "    print(\"The square of\", i, \"is\", i*i)"
   ]
  },
  {
   "cell_type": "code",
   "execution_count": 47,
   "metadata": {
    "collapsed": false
   },
   "outputs": [
    {
     "name": "stdout",
     "output_type": "stream",
     "text": [
      "SUNDAY, MONDAY, TUESDAY, WEDNESDAY, THURSDAY, FRIDAY, SATURDAY, "
     ]
    }
   ],
   "source": [
    "days_of_the_week = [\"Sunday\",\"Monday\",\"Tuesday\",\"Wednesday\",\"Thursday\",\"Friday\",\"Saturday\"]\n",
    "\n",
    "for day in days_of_the_week:\n",
    "    # now day contains the day of the week,\n",
    "    # goes through them one at a time and\n",
    "    # each time it runs the code in this indented block\n",
    "    \n",
    "    # use help(str.upper) to figure out what this is doing\n",
    "    capital_day = day.upper()\n",
    "    \n",
    "    # help(print) will tell you more about this `end` thing\n",
    "    print(capital_day, end=\", \")"
   ]
  },
  {
   "cell_type": "code",
   "execution_count": 48,
   "metadata": {
    "collapsed": false
   },
   "outputs": [
    {
     "name": "stdout",
     "output_type": "stream",
     "text": [
      "['Sunday', 'Monday', 'Tuesday', 'Wednesday', 'Thursday', 'Friday', 'Saturday']\n"
     ]
    }
   ],
   "source": [
    "# of course we did not overwrite the list above!\n",
    "print(days_of_the_week)"
   ]
  },
  {
   "cell_type": "markdown",
   "metadata": {},
   "source": [
    "To modify them we have to explicitly access the list"
   ]
  },
  {
   "cell_type": "code",
   "execution_count": 51,
   "metadata": {
    "collapsed": false
   },
   "outputs": [
    {
     "name": "stdout",
     "output_type": "stream",
     "text": [
      "Was ['Sunday', 'Monday', 'Tuesday', 'Wednesday', 'Thursday', 'Friday', 'Saturday']\n",
      "Is ['SUNDAY', 'MONDAY', 'TUESDAY', 'WEDNESDAY', 'THURSDAY', 'FRIDAY', 'SATURDAY']\n"
     ]
    }
   ],
   "source": [
    "new_days_of_the_week = [\"Sunday\",\"Monday\",\"Tuesday\",\"Wednesday\",\"Thursday\",\"Friday\",\"Saturday\"]\n",
    "print(\"Was\", new_days_of_the_week)\n",
    "\n",
    "no_of_days = len(days_of_the_week)\n",
    "\n",
    "for i in range(no_of_days):\n",
    "    day = new_days_of_the_week[i]\n",
    "    new_days_of_the_week[i] = day.upper()\n",
    "\n",
    "print(\"Is\", new_days_of_the_week)"
   ]
  },
  {
   "cell_type": "markdown",
   "metadata": {},
   "source": [
    "Python allows you to do what we did before in a smarter way"
   ]
  },
  {
   "cell_type": "code",
   "execution_count": 52,
   "metadata": {
    "collapsed": false
   },
   "outputs": [
    {
     "name": "stdout",
     "output_type": "stream",
     "text": [
      "Was ['Sunday', 'Monday', 'Tuesday', 'Wednesday', 'Thursday', 'Friday', 'Saturday']\n",
      "Is ['SUNDAY', 'MONDAY', 'TUESDAY', 'WEDNESDAY', 'THURSDAY', 'FRIDAY', 'SATURDAY']\n"
     ]
    }
   ],
   "source": [
    "new_days_of_the_week = [\"Sunday\",\"Monday\",\"Tuesday\",\"Wednesday\",\"Thursday\",\"Friday\",\"Saturday\"]\n",
    "print(\"Was\", new_days_of_the_week)\n",
    "\n",
    "# here enumerate will iterate over the tuple (index, item)\n",
    "for i, day in enumerate(new_days_of_the_week):\n",
    "    new_days_of_the_week[i] = day.upper()\n",
    "\n",
    "print(\"Is\", new_days_of_the_week)"
   ]
  },
  {
   "cell_type": "markdown",
   "metadata": {},
   "source": [
    "Many things are iterable in python (look we are nesting for and if!)"
   ]
  },
  {
   "cell_type": "code",
   "execution_count": 91,
   "metadata": {
    "collapsed": false
   },
   "outputs": [
    {
     "name": "stdout",
     "output_type": "stream",
     "text": [
      "hOW*ARE*YOU*"
     ]
    }
   ],
   "source": [
    "for letter in \"How are you?\":\n",
    "    # help(str) will answer all your questions!\n",
    "    # can you see why str?\n",
    "    if letter.islower():\n",
    "        print(letter.upper(), end=\"\")\n",
    "    elif not letter.isalpha():\n",
    "        print(\"*\", end=\"\")\n",
    "    else:\n",
    "        print(letter.lower(), end=\"\")"
   ]
  },
  {
   "cell_type": "markdown",
   "metadata": {},
   "source": [
    "We can use iteration to create lists of interesting things, here are the sequares of the even numbers smaller than 10:"
   ]
  },
  {
   "cell_type": "code",
   "execution_count": 53,
   "metadata": {
    "collapsed": false
   },
   "outputs": [
    {
     "name": "stdout",
     "output_type": "stream",
     "text": [
      "[0, 4, 16, 36, 64]\n"
     ]
    }
   ],
   "source": [
    "even_squared = []\n",
    "for i in range(10):\n",
    "    square = i*i\n",
    "    \n",
    "    if i%2 == 0:\n",
    "        even_squared.append(square)\n",
    "\n",
    "print(even_squared)"
   ]
  },
  {
   "cell_type": "markdown",
   "metadata": {},
   "source": [
    "### List Comprehensions"
   ]
  },
  {
   "cell_type": "markdown",
   "metadata": {},
   "source": [
    "Interestingly, you can mix loops and lists to create lists in a faster way that resembles the mathematical way of defining it:"
   ]
  },
  {
   "cell_type": "code",
   "execution_count": 54,
   "metadata": {
    "collapsed": false
   },
   "outputs": [
    {
     "data": {
      "text/plain": [
       "[0, 4, 16, 36, 64]"
      ]
     },
     "execution_count": 54,
     "metadata": {},
     "output_type": "execute_result"
    }
   ],
   "source": [
    "[i*i for i in range(10) if i%2 == 0]"
   ]
  },
  {
   "cell_type": "markdown",
   "metadata": {},
   "source": [
    "### The fibonacci sequence"
   ]
  },
  {
   "cell_type": "markdown",
   "metadata": {},
   "source": [
    "The Fibonacci sequence is defined as follows\n",
    "$$\n",
    "\\begin{cases}\n",
    "F_0 = F_1 = 1 \\\\\n",
    "F_n = F_{n-1} + F_{n-2}\n",
    "\\end{cases}\n",
    "$$\n",
    "\n",
    "Thus, the sequence goes like 1, 1, 2, 3, 5, 8, 13, 21, 34, 55, 89, ...\n",
    "\n",
    "A very common exercise in programming books is to compute the Fibonacci sequence up to some number n."
   ]
  },
  {
   "cell_type": "code",
   "execution_count": 55,
   "metadata": {
    "collapsed": false
   },
   "outputs": [],
   "source": [
    "# First we set the value for n - the length of the sequence\n",
    "n = 10"
   ]
  },
  {
   "cell_type": "markdown",
   "metadata": {},
   "source": [
    "We are going to store the sequence in a list, for convenience we call it simply `fibonacci`"
   ]
  },
  {
   "cell_type": "code",
   "execution_count": 56,
   "metadata": {
    "collapsed": true
   },
   "outputs": [],
   "source": [
    "# The first two values of the sequence are predefined,\n",
    "# so we are going to include them immediately. Here we define the\n",
    "# fibonacci sequence as a list called fibonacci\n",
    "fibonacci = [1,1]"
   ]
  },
  {
   "cell_type": "markdown",
   "metadata": {},
   "source": [
    "In a proper program we would check that the input (in this case `n`) makes sense, otherwise we complain and end. So let's do it! \n",
    "\n",
    "If that is fine we keep going and compute the result"
   ]
  },
  {
   "cell_type": "code",
   "execution_count": 58,
   "metadata": {
    "collapsed": false
   },
   "outputs": [
    {
     "name": "stdout",
     "output_type": "stream",
     "text": [
      "[1, 1, 2, 3, 5, 8, 13, 21, 34, 55, 2, 3, 5, 8, 13, 21, 34, 55]\n"
     ]
    }
   ],
   "source": [
    "if n < 0:\n",
    "    print(\"n must be a non-negative integer\")\n",
    "    \n",
    "# if n < 3 we already know the answer and we print it immediately\n",
    "elif n < 3:\n",
    "    print(fibonacci[:n])\n",
    "\n",
    "# if none of the above, we have to compute the remaining fibonacci numbers\n",
    "# and add them to the list\n",
    "else:\n",
    "    \n",
    "    # we compute all of them until we arrive to n\n",
    "    for i in range(2,n): \n",
    "        # at each step we compute a new value and we append it to the sequence\n",
    "        # - just using the definition here -\n",
    "        ith_fibonacci = fibonacci[i-1] + fibonacci[i-2]\n",
    "        fibonacci.append(ith_fibonacci)\n",
    "        \n",
    "    # finally we print the result\n",
    "    # NOTE: we are outside from the foor loop! Check the indentation\n",
    "    print(fibonacci)"
   ]
  },
  {
   "cell_type": "markdown",
   "metadata": {},
   "source": [
    "**Exercise**: change `n` above and rerun the three cells above to see what happens"
   ]
  },
  {
   "cell_type": "markdown",
   "metadata": {},
   "source": [
    "## Functions"
   ]
  },
  {
   "cell_type": "markdown",
   "metadata": {},
   "source": [
    "Instead of going back to the cell and modify `n` or copying and pasting the content on a different cell, it would be nice to have a way to reuse the code.\n",
    "\n",
    "We do this with the `def` statement in Python:\n",
    "\n",
    "    def function_name(arg_1, arg_2, ..., arg_i):\n",
    "        do_this\n",
    "        do_that\n",
    "        use_arg1\n",
    "        and_arg2\n",
    "        do_also_something_else\n",
    "        ...\n",
    "        but_finally\n",
    "        return result\n",
    "\n",
    "The `return` keyword stops the execution of the function and returns the value next to it."
   ]
  },
  {
   "cell_type": "code",
   "execution_count": 61,
   "metadata": {
    "collapsed": false
   },
   "outputs": [
    {
     "name": "stdout",
     "output_type": "stream",
     "text": [
      "x is 5 and y is 6. The optional z is 3\n",
      "Sum is  14\n",
      "\n",
      "x is 5 and y is 6. The optional z is 11\n",
      "Sum with keyword arguments 22\n"
     ]
    }
   ],
   "source": [
    "# z is OPTIONAL, if omitted get authomatically the value 3\n",
    "def add(x, y, z=3):\n",
    "    \n",
    "    print(\"x is {} and y is {}. The optional z is {}\".format(x, y, z))\n",
    "\n",
    "    return x + y + z\n",
    "    \n",
    "    # after return, the function will not execute anything\n",
    "    print(\"This will never be executed!\")\n",
    "\n",
    "    \n",
    "print(\"Sum is \", add(5, 6))\n",
    "print()\n",
    "\n",
    "# Another way to call functions is with keyword arguments\n",
    "print(\"Sum with keyword arguments\", add(z=11, y=6, x=5))  # Keyword arguments can arrive in any order."
   ]
  },
  {
   "cell_type": "code",
   "execution_count": 62,
   "metadata": {
    "collapsed": false
   },
   "outputs": [],
   "source": [
    "def fibonacci_function(sequence_length):\n",
    "    \"Return the Fibonacci sequence of length `sequence_length`\"\n",
    "    \n",
    "    fibonacci = [1, 1]\n",
    "    \n",
    "    if sequence_length < 0:\n",
    "        print(\"Fibonacci sequence only defined for non-negative length\")\n",
    "        \n",
    "        # we terminate the execution of the function and return None, \n",
    "        # None is python version of nothingness\n",
    "        return\n",
    "    \n",
    "    elif 0 <= sequence_length < 3:\n",
    "        \n",
    "        # we terminate the execution of the function and return the required list\n",
    "        return fibonacci[:sequence_length]\n",
    "    \n",
    "    # else is now not needed, if any of the above happened we would have terminated\n",
    "    # the function and this part of the code would not be executed\n",
    "    # if we arrive here we have to compute the missing values \n",
    "    \n",
    "    for i in range(2,sequence_length): \n",
    "        fibonacci.append(fibonacci[i-1]+fibonacci[i-2])\n",
    "        \n",
    "    # and finally return the complete list\n",
    "    return fibonacci"
   ]
  },
  {
   "cell_type": "markdown",
   "metadata": {},
   "source": [
    "The key `return` ends whatever is going on and returns the the value typed next to it. \n",
    "\n",
    "Note that the first line of the function is a single string. This is called a `docstring`, and is a special kind of comment that appears when calling `help`:"
   ]
  },
  {
   "cell_type": "code",
   "execution_count": 64,
   "metadata": {
    "collapsed": false
   },
   "outputs": [
    {
     "name": "stdout",
     "output_type": "stream",
     "text": [
      "Help on function fibonacci_function in module __main__:\n",
      "\n",
      "fibonacci_function(sequence_length)\n",
      "    Return the Fibonacci sequence of length `sequence_length`\n",
      "\n"
     ]
    }
   ],
   "source": [
    "help(fibonacci_function)"
   ]
  },
  {
   "cell_type": "markdown",
   "metadata": {},
   "source": [
    "If you define a docstring for all of your functions, it makes it easier for other people to use them, since they can get help on the arguments and return values of the function."
   ]
  },
  {
   "cell_type": "code",
   "execution_count": 65,
   "metadata": {
    "collapsed": false
   },
   "outputs": [
    {
     "name": "stdout",
     "output_type": "stream",
     "text": [
      "Fibonacci sequence only defined for non-negative length\n"
     ]
    }
   ],
   "source": [
    "fibonacci_function(-3)"
   ]
  },
  {
   "cell_type": "code",
   "execution_count": 66,
   "metadata": {
    "collapsed": false
   },
   "outputs": [
    {
     "name": "stdout",
     "output_type": "stream",
     "text": [
      "Fibonacci sequence only defined for non-negative length\n"
     ]
    },
    {
     "data": {
      "text/plain": [
       "True"
      ]
     },
     "execution_count": 66,
     "metadata": {},
     "output_type": "execute_result"
    }
   ],
   "source": [
    "fibonacci_function(-3) is None"
   ]
  },
  {
   "cell_type": "code",
   "execution_count": 69,
   "metadata": {
    "collapsed": false
   },
   "outputs": [
    {
     "data": {
      "text/plain": [
       "[1, 1, 2, 3, 5, 8, 13, 21, 34, 55, 89, 144, 233, 377, 610, 987, 1597, 2584]"
      ]
     },
     "execution_count": 69,
     "metadata": {},
     "output_type": "execute_result"
    }
   ],
   "source": [
    "fibonacci_function(18)"
   ]
  },
  {
   "cell_type": "code",
   "execution_count": 70,
   "metadata": {
    "collapsed": false
   },
   "outputs": [
    {
     "data": {
      "text/plain": [
       "[]"
      ]
     },
     "execution_count": 70,
     "metadata": {},
     "output_type": "execute_result"
    }
   ],
   "source": [
    "fibonacci_function(0)"
   ]
  },
  {
   "cell_type": "markdown",
   "metadata": {},
   "source": [
    "**Exercise 3**: write a function `fact` that computes the factorial of a number $n$: \n",
    "$n! = n\\cdot(n-1)\\cdot(n-2)\\cdots2\\cdot1$."
   ]
  },
  {
   "cell_type": "code",
   "execution_count": null,
   "metadata": {
    "collapsed": true
   },
   "outputs": [],
   "source": []
  },
  {
   "cell_type": "code",
   "execution_count": null,
   "metadata": {
    "collapsed": true
   },
   "outputs": [],
   "source": []
  },
  {
   "cell_type": "code",
   "execution_count": null,
   "metadata": {
    "collapsed": true
   },
   "outputs": [],
   "source": []
  },
  {
   "cell_type": "code",
   "execution_count": null,
   "metadata": {
    "collapsed": true
   },
   "outputs": [],
   "source": []
  },
  {
   "cell_type": "markdown",
   "metadata": {},
   "source": [
    "Note that you will not need to write many fuctions yourselves. Python standard library is huge and it is possible to `import` in your code the needed modules and use the function contained there as follows:"
   ]
  },
  {
   "cell_type": "code",
   "execution_count": 71,
   "metadata": {
    "collapsed": false
   },
   "outputs": [
    {
     "name": "stdout",
     "output_type": "stream",
     "text": [
      "13! = 6227020800\n",
      "sqrt(4) is 2.0\n"
     ]
    }
   ],
   "source": [
    "import math\n",
    "print(\"13! =\", math.factorial(13))\n",
    "print(\"sqrt(4) is\", math.sqrt(4))"
   ]
  },
  {
   "cell_type": "markdown",
   "metadata": {},
   "source": [
    "You can check what functions are available using the official documentation in http://doc.python.org (look for python 3.4 or 3.5), or if you know the name of the module you can list its contents by using `dir`"
   ]
  },
  {
   "cell_type": "code",
   "execution_count": 72,
   "metadata": {
    "collapsed": false
   },
   "outputs": [
    {
     "name": "stdout",
     "output_type": "stream",
     "text": [
      "['__doc__', '__file__', '__loader__', '__name__', '__package__', '__spec__', 'acos', 'acosh', 'asin', 'asinh', 'atan', 'atan2', 'atanh', 'ceil', 'copysign', 'cos', 'cosh', 'degrees', 'e', 'erf', 'erfc', 'exp', 'expm1', 'fabs', 'factorial', 'floor', 'fmod', 'frexp', 'fsum', 'gamma', 'gcd', 'hypot', 'inf', 'isclose', 'isfinite', 'isinf', 'isnan', 'ldexp', 'lgamma', 'log', 'log10', 'log1p', 'log2', 'modf', 'nan', 'pi', 'pow', 'radians', 'sin', 'sinh', 'sqrt', 'tan', 'tanh', 'trunc']\n"
     ]
    }
   ],
   "source": [
    "import math\n",
    "print(dir(math))"
   ]
  },
  {
   "cell_type": "markdown",
   "metadata": {},
   "source": [
    "Ignore all the things starting with `__` for the moment. Python has a huge amount of modules"
   ]
  },
  {
   "cell_type": "code",
   "execution_count": 74,
   "metadata": {
    "collapsed": false
   },
   "outputs": [
    {
     "name": "stdout",
     "output_type": "stream",
     "text": [
      "This is a sequence of uniformly distributed random numbers:\n",
      "\n",
      " [0.3484031032447744, 0.9801219353360817, 0.21071693802671276, 0.650015826343945, 0.6452575499996234]\n"
     ]
    }
   ],
   "source": [
    "import random as rnd\n",
    "print(\"This is a sequence of uniformly distributed random numbers:\\n\\n\", \n",
    "      [rnd.random() for _ in range(5)])"
   ]
  },
  {
   "cell_type": "code",
   "execution_count": 75,
   "metadata": {
    "collapsed": false
   },
   "outputs": [
    {
     "name": "stdout",
     "output_type": "stream",
     "text": [
      "Sin of 1.5707963267948966 is 1.0\n"
     ]
    }
   ],
   "source": [
    "from math import pi, sin\n",
    "\n",
    "print(\"Sin of\", pi/2, \"is\", sin(pi/2))"
   ]
  },
  {
   "cell_type": "markdown",
   "metadata": {},
   "source": [
    "## A more complicated example"
   ]
  },
  {
   "cell_type": "markdown",
   "metadata": {},
   "source": [
    "Let's see what a small script that opens a text, generates a markov chain uot of its content and uses it to generate \"random\" sentences can look like.\n",
    "\n",
    "We are going to use the most naive way of doing it, so that the code is simple."
   ]
  },
  {
   "cell_type": "code",
   "execution_count": 76,
   "metadata": {
    "collapsed": false
   },
   "outputs": [
    {
     "name": "stdout",
     "output_type": "stream",
     "text": [
      "2\n",
      "hey\n",
      "{'hello': 'Hi', 'A': 2, 'home': 7, 9: 'hey'}\n"
     ]
    }
   ],
   "source": [
    "# remember dictionaries?\n",
    "\n",
    "a_dictionary = {\"A\":2, \"home\":7, 9:\"hey\"}\n",
    "print(a_dictionary[\"A\"])\n",
    "print(a_dictionary[9])\n",
    "\n",
    "a_dictionary[\"hello\"] = \"Hi\"\n",
    "print(a_dictionary)"
   ]
  },
  {
   "cell_type": "code",
   "execution_count": 77,
   "metadata": {
    "collapsed": true
   },
   "outputs": [],
   "source": [
    "from random import choice\n",
    "from collections import defaultdict\n",
    "\n",
    "EOS = ['.', '?', '!']\n",
    "\n",
    "def build_dict(words):\n",
    "    \"\"\"\n",
    "    Build a dictionary from the words list.\n",
    "    It associates to an ordered tuple of words, \n",
    "    all the words that could possibly follow.\n",
    "    \n",
    "    # key: tuple; value: list\n",
    "    (word1, word2) => [w1, w2, ...]\n",
    "    \"\"\"\n",
    "    \n",
    "    # use the help!!!\n",
    "    d = defaultdict(list)\n",
    "    \n",
    "    for i, word in enumerate(words):\n",
    "        \n",
    "        # this is how you deal with possible errors in python\n",
    "        # try:\n",
    "        #    first, second, third = words[i], words[i+1], words[i+2]\n",
    "        # except IndexError:\n",
    "        #   # break means 'break out from this loop'\n",
    "        #    break\n",
    "        #\n",
    "        # we can also use an if\n",
    "        \n",
    "        if i < len(words)-2:\n",
    "            first, second, third = words[i], words[i+1], words[i+2]\n",
    "        \n",
    "            key = (first, second)\n",
    "            \n",
    "            # you access elements in the dictionaries like element in lists but using a key:\n",
    "            # dictionary[key]\n",
    "            \n",
    "            # this is done by defaultdict behind the scene\n",
    "            # if key not in d:\n",
    "            #     d[key] = []\n",
    "\n",
    "            d[key].append(third)\n",
    "     \n",
    "    # this is outside the for and the if, \n",
    "    # if not we would not return the whole dictionary \n",
    "    # but just what we get after one step of the loop\n",
    "    return d\n",
    " \n",
    "\n",
    "def generate_sentence(d, eos=EOS):\n",
    "    \"\"\"Generate a random sentence from a dictionary `d` of the form\n",
    "    \n",
    "    (word1, word2) => [w1, w2, ...]\n",
    "    \n",
    "    For every two words, their successor is picked up at random\n",
    "    from the associated list.\n",
    "    \n",
    "    `eos` is an optional list of symbols that identify the end of a sentence.\n",
    "    It defaults to ['.', '?', '!'].\n",
    "    \"\"\"\n",
    "    \n",
    "    # we take a list of all the tuples among the dictionary keys\n",
    "    # whose first element starts with a capital letter \n",
    "    # and then choose one element at random\n",
    "    starters = [key for key in d.keys() if key[0][0].isupper()]\n",
    "    key = choice(starters)\n",
    "     \n",
    "    # let's start building the sentence\n",
    "    # an equivalent way is: sentence = list(key)\n",
    "    first, second = key\n",
    "    sentence = [first, second]\n",
    "    \n",
    "    # This is a while loop, it keeps looping until you break out or\n",
    "    # the condition becomes false.\n",
    "    while True:\n",
    "        try:\n",
    "            # we pick up a random word from the possible successors\n",
    "            # if any.\n",
    "            third = choice(d[key])\n",
    "        except KeyError:\n",
    "            # we break the loop in case of errors\n",
    "            break\n",
    "        \n",
    "        # add the word to the sentence\n",
    "        sentence.append(third)\n",
    "        \n",
    "        # if we find a stop symbol we break the loop\n",
    "        if third[-1] in eos:\n",
    "            break\n",
    "            \n",
    "        # else we generate a new key using the new word\n",
    "        # and refill the variables. This is actually equivalent\n",
    "        # to first, second = key = (second, third)\n",
    "        key = (second, third)\n",
    "        first, second = key\n",
    " \n",
    "    # We return a string obtained by joining all the elements in `sentence`\n",
    "    # separated by a space\n",
    "    return ' '.join(sentence)\n",
    " \n",
    "def generate_dictionary_from_file(filename, and_text=False):\n",
    "    \"\"\"Return the word dictionray generated with the content \n",
    "    of `filename`. If the optional parameter `and_text` is True\n",
    "    it returns also the fulltext in a tuple of the form \n",
    "    (dictionary, fulltext)\"\"\"\n",
    "    \n",
    "    # this is an interesting python construct called context,\n",
    "    # **very roughly** it is like\n",
    "    #\n",
    "    # f = open(filename, \"rt\")\n",
    "    # text = f.read()\n",
    "    # f.close()\n",
    "    #\n",
    "    # where the f.close() is executed even if some errors has happened\n",
    "    \n",
    "    with open(filename, \"rt\") as f:\n",
    "        # text now contains the whole content of the file\n",
    "        text = f.read()\n",
    "    \n",
    "    # we get an array after splitting on spaces, this is very not optimal,\n",
    "    # and assumes that we did clean the file and removed newlines before using it\n",
    "    words = text.split()\n",
    "    words_dict = build_dict(words)\n",
    "    \n",
    "    if text:\n",
    "        return (words_dict, text)\n",
    "    else:\n",
    "        return words_dict\n"
   ]
  },
  {
   "cell_type": "code",
   "execution_count": 78,
   "metadata": {
    "collapsed": false
   },
   "outputs": [
    {
     "name": "stdout",
     "output_type": "stream",
     "text": [
      "['This', 'planet', 'has', '-', 'or', 'rather', 'had']\n",
      "defaultdict(<class 'list'>,\n",
      "            {('-', 'a'): ['problem,'],\n",
      "             ('-', 'or'): ['rather'],\n",
      "             ('Many', 'solutions'): ['were'],\n",
      "             ('This', 'planet'): ['has'],\n",
      "             ('a', 'problem,'): ['which'],\n",
      "             ('all', 'of'): ['the'],\n",
      "             ('because', 'on'): ['the'],\n",
      "             ('but', 'most'): ['of'],\n",
      "             ('concerned', 'with'): ['the'],\n",
      "             ('for', 'pretty'): ['much'],\n",
      "             ('for', 'this'): ['problem,'],\n",
      "             ('green', 'pieces'): ['of', 'of'],\n",
      "             ('had', '-'): ['a'],\n",
      "             ('has', '-'): ['or'],\n",
      "             ('it', \"wasn't\"): ['the'],\n",
      "             ('it', 'were'): ['unhappy'],\n",
      "             ('largely', 'concerned'): ['with'],\n",
      "             ('living', 'on'): ['it'],\n",
      "             ('most', 'of'): ['the', 'these'],\n",
      "             ('movement', 'of'): ['small'],\n",
      "             ('much', 'all'): ['of'],\n",
      "             ('odd', 'because'): ['on'],\n",
      "             ('of', 'paper'): ['that'],\n",
      "             ('of', 'paper,'): ['which'],\n",
      "             ('of', 'small'): ['green'],\n",
      "             ('of', 'the'): ['people', 'time.'],\n",
      "             ('of', 'these'): ['were'],\n",
      "             ('on', 'it'): ['were'],\n",
      "             ('on', 'the'): ['whole'],\n",
      "             ('or', 'rather'): ['had'],\n",
      "             ('paper', 'that'): ['were'],\n",
      "             ('paper,', 'which'): ['was'],\n",
      "             ('people', 'living'): ['on'],\n",
      "             ('pieces', 'of'): ['paper,', 'paper'],\n",
      "             ('planet', 'has'): ['-'],\n",
      "             ('pretty', 'much'): ['all'],\n",
      "             ('problem,', 'but'): ['most'],\n",
      "             ('problem,', 'which'): ['was'],\n",
      "             ('rather', 'had'): ['-'],\n",
      "             ('small', 'green'): ['pieces', 'pieces'],\n",
      "             ('solutions', 'were'): ['suggested'],\n",
      "             ('suggested', 'for'): ['this'],\n",
      "             ('that', 'were'): ['unhappy.'],\n",
      "             ('the', 'movement'): ['of'],\n",
      "             ('the', 'people'): ['living'],\n",
      "             ('the', 'small'): ['green'],\n",
      "             ('the', 'time.'): ['Many'],\n",
      "             ('the', 'whole'): ['it'],\n",
      "             ('these', 'were'): ['largely'],\n",
      "             ('this', 'problem,'): ['but'],\n",
      "             ('this:', 'most'): ['of'],\n",
      "             ('time.', 'Many'): ['solutions'],\n",
      "             ('unhappy', 'for'): ['pretty'],\n",
      "             ('was', 'odd'): ['because'],\n",
      "             ('was', 'this:'): ['most'],\n",
      "             (\"wasn't\", 'the'): ['small'],\n",
      "             ('were', 'largely'): ['concerned'],\n",
      "             ('were', 'suggested'): ['for'],\n",
      "             ('were', 'unhappy'): ['for'],\n",
      "             ('which', 'was'): ['this:', 'odd'],\n",
      "             ('whole', 'it'): [\"wasn't\"],\n",
      "             ('with', 'the'): ['movement']})\n"
     ]
    }
   ],
   "source": [
    "from pprint import pprint\n",
    "\n",
    "sentence = \"This planet has - or rather had - a problem, \\\n",
    "which was this: most of the people living on it were unhappy \\\n",
    "for pretty much all of the time. Many solutions were suggested \\\n",
    "for this problem, but most of these were largely concerned with \\\n",
    "the movement of small green pieces of paper, which was odd because \\\n",
    "on the whole it wasn't the small green pieces of paper that were unhappy.\"\n",
    "\n",
    "splitted_sentence = sentence.split()\n",
    "pprint(splitted_sentence[0:7])\n",
    "\n",
    "d = build_dict(splitted_sentence)\n",
    "pprint(d)"
   ]
  },
  {
   "cell_type": "code",
   "execution_count": 79,
   "metadata": {
    "collapsed": false
   },
   "outputs": [
    {
     "name": "stdout",
     "output_type": "stream",
     "text": [
      "This planet has - or rather had - a problem, which was this: most of the people living on it were unhappy for pretty much all of the time.\n"
     ]
    }
   ],
   "source": [
    "print(generate_sentence(d))"
   ]
  },
  {
   "cell_type": "code",
   "execution_count": 80,
   "metadata": {
    "collapsed": false
   },
   "outputs": [
    {
     "name": "stdout",
     "output_type": "stream",
     "text": [
      "This planet has - or rather had - a problem, which was this: most of these were largely concerned with the movement of small green pieces of paper, which was odd because on the whole it wasn't the small green pieces of paper that were unhappy.\n"
     ]
    }
   ],
   "source": [
    "print(generate_sentence(d))"
   ]
  },
  {
   "cell_type": "code",
   "execution_count": 81,
   "metadata": {
    "collapsed": false
   },
   "outputs": [
    {
     "name": "stdout",
     "output_type": "stream",
     "text": [
      "Many solutions were suggested for this problem, but most of these were largely concerned with the movement of small green pieces of paper that were unhappy.\n"
     ]
    }
   ],
   "source": [
    "print(generate_sentence(d))"
   ]
  },
  {
   "cell_type": "code",
   "execution_count": 82,
   "metadata": {
    "collapsed": false
   },
   "outputs": [
    {
     "name": "stdout",
     "output_type": "stream",
     "text": [
      "Saxe-Coburg Square, and that she cast out Rapunzel, however, the bumping of the forest.\n",
      "\n",
      "Mr. Ferguson. \"'This is my friend Sherlock Holmes had sat all this land: But over the water, and the inquirer flitted away into nose and cheeks, with a long draught of ale.' 'Very well,' said she; 'to whom does that little town; then we took it quickly out, but they ain't going to get under in blazing weather and rainy, and to wash.\n",
      "\n",
      "European history.\" \"I promise,\" said Holmes.\n",
      "\n",
      "John, the coachman, to watch them.\n",
      "\n",
      "Paul's Wharf, which could suggest the idea of _you_ lynching anybody!\n",
      "\n"
     ]
    }
   ],
   "source": [
    "# alltext.txt contains the project gnutemberg versions of \n",
    "# The Enchiridion - Epictetus\n",
    "# The Brothers Grimm Fairy Tales\n",
    "# Huckleberry Finn\n",
    "# Adventures of Sherlock Holmes\n",
    "\n",
    "words_dict, text = generate_dictionary_from_file(\"alltext.txt\", and_text=True)\n",
    "\n",
    "for _ in range(5):\n",
    "    sent = generate_sentence(words_dict)\n",
    "    print(sent, end=\"\\n\\n\")\n",
    "    if sent in text:\n",
    "        print('# existing sentence :(')"
   ]
  },
  {
   "cell_type": "markdown",
   "metadata": {},
   "source": [
    "**Exercise 4** (advanced): modify the code above to generate a dictionary using n-grams instead of 3 words, i.e. associating (n-1) characters to the possible nth character that follows them."
   ]
  },
  {
   "cell_type": "code",
   "execution_count": null,
   "metadata": {
    "collapsed": true
   },
   "outputs": [],
   "source": []
  },
  {
   "cell_type": "markdown",
   "metadata": {},
   "source": [
    "### Conclusion"
   ]
  },
  {
   "cell_type": "markdown",
   "metadata": {},
   "source": [
    "There is much more to cover but as a very fast introduction, you have all the tools that are needed to start writing your first programs and make something useful out of them. Remember to read carefully the error messages, document your code and use the help, either inline or from [docs.python.org](https://docs.python.org/3.4/).\n",
    "\n",
    "Finally, a small easter egg: Tim Peters, one of the earliest and most prolific Python contributors, wrote the \"Zen of Python\", which can be accessed via the `import this` command"
   ]
  },
  {
   "cell_type": "code",
   "execution_count": 4,
   "metadata": {
    "collapsed": false
   },
   "outputs": [
    {
     "name": "stdout",
     "output_type": "stream",
     "text": [
      "The Zen of Python, by Tim Peters\n",
      "\n",
      "Beautiful is better than ugly.\n",
      "Explicit is better than implicit.\n",
      "Simple is better than complex.\n",
      "Complex is better than complicated.\n",
      "Flat is better than nested.\n",
      "Sparse is better than dense.\n",
      "Readability counts.\n",
      "Special cases aren't special enough to break the rules.\n",
      "Although practicality beats purity.\n",
      "Errors should never pass silently.\n",
      "Unless explicitly silenced.\n",
      "In the face of ambiguity, refuse the temptation to guess.\n",
      "There should be one-- and preferably only one --obvious way to do it.\n",
      "Although that way may not be obvious at first unless you're Dutch.\n",
      "Now is better than never.\n",
      "Although never is often better than *right* now.\n",
      "If the implementation is hard to explain, it's a bad idea.\n",
      "If the implementation is easy to explain, it may be a good idea.\n",
      "Namespaces are one honking great idea -- let's do more of those!\n"
     ]
    }
   ],
   "source": [
    "import this"
   ]
  },
  {
   "cell_type": "markdown",
   "metadata": {
    "collapsed": true
   },
   "source": [
    "**Exercise**: now go ahead and solve all the exercises in the `Exercises 1` notebook"
   ]
  },
  {
   "cell_type": "code",
   "execution_count": null,
   "metadata": {
    "collapsed": true
   },
   "outputs": [],
   "source": []
  }
 ],
 "metadata": {
  "kernelspec": {
   "display_name": "Python 3",
   "language": "python",
   "name": "python3"
  },
  "language_info": {
   "codemirror_mode": {
    "name": "ipython",
    "version": 3
   },
   "file_extension": ".py",
   "mimetype": "text/x-python",
   "name": "python",
   "nbconvert_exporter": "python",
   "pygments_lexer": "ipython3",
   "version": "3.5.0"
  }
 },
 "nbformat": 4,
 "nbformat_minor": 0
}
