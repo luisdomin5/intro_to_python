{
 "cells": [
  {
   "cell_type": "markdown",
   "metadata": {},
   "source": [
    "# Learning Python - a very brief course\n",
    "\n",
    "> **Disclaimer**:  there are two major versions of python, python 2 and python 3. Some of the differences between them are major and although it is possible to write code that is compatible with both, as many major libraries are doing, I will not focus on that here.\n",
    "> All the code that we will write is assumed to be compatible with python 3.4 and will not be tested with older versions.\n",
    "\n",
    "The course will be interactive and fully contained in jupyter notebooks that can be found on this github repository. We will see soon how to use them and start writing some code."
   ]
  },
  {
   "cell_type": "markdown",
   "metadata": {},
   "source": [
    "## Installing python and the relevant packages\n",
    "Well, first of all you need `python`. Mac OSX and Linux usually come bundled with their own versions of python, not necessarily the most updated. Personally I prefer to use a clean install of python 3.4 or 3.5 (the latest at the moment of writing) and not touch the system one. For a complete neophyte, especially given our focus on scientific programming, I recommend to install the [python 3.4 Anaconda bundle](https://www.continuum.io/downloads).  \n",
    "\n",
    "For scientific computing we will need to \"extend\" our python environment by installing some additional libraries. _If you have used anaconda to install python, you already have all of them._ \n",
    "For the others, we are going to use the following, so make sure to install them:\n",
    "\n",
    "- [`numpy`](http://www.numpy.org): fundamental package for scientific computing.\n",
    "- [`scipy`](http://www.scipy.org):  library containing user-friendly and efficient numerical routines such as routines for numerical integration and optimization. \n",
    "- [`matplotlib`](http://matplotlib.org): matplotlib is a python 2D plotting library which produces publication quality figures in a variety of hardcopy formats and interactive environments across platforms. matplotlib can be used in python scripts, the python and ipython shell (ala MATLAB or Mathematica), web application servers, and six graphical user interface toolkits.\n",
    "- [`jupyter`](https://jupyter.org): this, in particular the notebook that it provides, is going to be our developer environment of choice. The Jupyter Notebook is a web application that allows you to create and share documents that contain live code, equations, visualizations and explanatory text. It's a lot like Mathematica notebooks, but they run python (and [many other languages](https://github.com/ipython/ipython/wiki/IPython-kernels-for-other-languages) in fact).\n",
    "- [`spyder`](https://github.com/spyder-ide/spyder) (optional): Spyder is the Scientific PYthon Development EnviRonment, in short and oversimplyfing it's a MATLAB-looking interface to develop python programs.\n",
    "- [`rodeo`]() (optional): a new cross-platform scientific python development environment very similar to MATLAB and R-Studio.\n",
    "\n",
    "I am suggesting spyder or rodeo as your default \"python code editor\" just because I know that many of you are accustomed to work with MATLAB. Any other editor or IDE is perfectly fine. I particularly like PyCharm (there is a free community version but the pro version is free for students and academics) and neovim, but other great alternatives include Sublime Text 3, KDevelop with the python3 plugin and Visual Studio with the python tools.\n",
    "\n",
    "In addition, it's worth mentioning `sympy`, `pandas` and `seaborn`. The first is a fast-evolving powerful library for symbolic mathematics (you can often use it in [replacement of wolfram alpha](http://www.sympygamma.com) ), the second provides high-performance, easy-to-use data structures and data analysis tools for python, the last is a package for visualization of statistical data.\n",
    "\n",
    "To avoid installing anything you can use the free accounts of [Sage Math Cloud](https://cloud.sagemath.com), [Wakari](http://wakari.io) or [Azure ML](http://studio.azureml.net).\n",
    "\n",
    "If you want to run your local jupyter notebook, just open a terminal (powershell in windows) and type `jupyter notebook`.\n",
    "\n",
    "Python is a general purpose programming language, you can build games, websites and any other kind of application. In the materials below you can find additional materials, informations and suggestions."
   ]
  },
  {
   "cell_type": "markdown",
   "metadata": {},
   "source": [
    "### Other remarks\n",
    "\n",
    "For scientific computing there is another language that is gaining more and more traction: [julia](http://julialang.org). You can use it on `jupyter` thanks to the `IJulia` package and it has a very good interoperability with `python` (`PyCall` package) and alseo, more specifically, `matplotlib` (`PyPlot` package). I will not go into details during this course but you can see a very good introductiory course by David P. Sanders directly on the [language web page](http://julialang.org/learning/).\n",
    "\n",
    "For statistical uses you may have a look alsto to the [R project](https://www.r-project.org) and its `jupyter` kernel package, but I know it very superficially and cannot provide much more insight at the moment."
   ]
  },
  {
   "cell_type": "markdown",
   "metadata": {},
   "source": [
    "\n",
    "# Additional material\n",
    "There are many free and non free books available for python. I can recommend the following, available for free on the respective official websites, but online you can really find an enormous amount of very good additional material.\n",
    "\n",
    "_I will not receive anything from advertising the links below, the list is just reflection of my personal opinion._\n",
    "\n",
    "### Online resources\n",
    "- [Composing Programs](http://composingprograms.com)\n",
    "- [The Python Tutorial (official documentation)](https://docs.python.org/3.5/tutorial/index.html)\n",
    "- [Scipy Lecture Notes (very up to date)](http://www.scipy-lectures.org)\n",
    "- [Matplotlib Tutorial (very up to date)](http://www.labri.fr/perso/nrougier/teaching/matplotlib/)\n",
    "- [Learn Python3 in Y Minutes](http://learnxinyminutes.com/docs/python3/)\n",
    "- [The Hitchhiker’s Guide to Python!](http://docs.python-guide.org/en/latest/)\n",
    "\n",
    "### Books\n",
    "- [Automate the Boring Stuff with Python (best resource for beginners and not)](https://automatetheboringstuff.com)\n",
    "- [Think Python, 2nd edition](http://www.greenteapress.com/thinkpython2/index.html)\n",
    "- [Pro Python (advanced)](http://www.apress.com/9781430227571)\n",
    "- [A Primer on Scientific Programming with Python](http://www.springer.com/us/book/9783642549588)\n",
    "\n",
    "### Online Courses\n",
    "- [MITx: 6.00.1x Introduction to Computer Science and Programming Using Python](https://courses.edx.org/courses/course-v1:MITx+6.00.1x_6+2T2015/info)\n",
    "- [Composing Programs](http://composingprograms.com)\n",
    "- [Code Academy Python Track](https://www.codecademy.com/tracks/python)\n",
    "- [Design of Computer Programs (advanced)](https://www.udacity.com/course/design-of-computer-programs--cs212)\n",
    "\n",
    "Interesting examples of use of the jupyter notebook are:\n",
    "- [A gallery of interesting IPython Notebooks](https://github.com/ipython/ipython/wiki/A-gallery-of-interesting-IPython-Notebooks)\n",
    "- [Mapping Global Earthquake Activity](http://introtopython.org/visualization_earthquakes.html)\n",
    "- [Drawing a Map from Pub Locations with the Matplotlib Basemap Toolkit](http://ramiro.org/notebook/mapping-pubs/)\n",
    "- Any notebook from Peter Norvig (although he still uses python 2.7), e.g. [Economics Simulation](http://nbviewer.ipython.org/url/norvig.com/ipython/Economics.ipynb), [The Convex Hull Problem](http://nbviewer.ipython.org/url/norvig.com/ipython/Convex%20Hull.ipynb), [Gesture Typing](http://nbviewer.ipython.org/url/norvig.com/ipython/Gesture%20Typing.ipynb), [How to do things with words](http://nbviewer.ipython.org/url/norvig.com/ipython/How%20to%20Do%20Things%20with%20Words.ipynb), [Probability, Paradox, and the Reasonable Person Principle](http://nbviewer.ipython.org/url/norvig.com/ipython/Probability.ipynb), [The Traveling Salesperson Problem](http://nbviewer.ipython.org/url/norvig.com/ipython/TSPv3.ipynb)\n",
    "- [A crash course in python for scientists](http://nbviewer.ipython.org/gist/rpmuller/5920182)\n",
    "\n",
    "There are hundreds of good videos on youtube as well, look for `pycon` or `euroscipy` for example...\n",
    "\n"
   ]
  },
  {
   "cell_type": "code",
   "execution_count": null,
   "metadata": {
    "collapsed": true
   },
   "outputs": [],
   "source": []
  }
 ],
 "metadata": {
  "kernelspec": {
   "display_name": "Python 3",
   "language": "python",
   "name": "python3"
  },
  "language_info": {
   "codemirror_mode": {
    "name": "ipython",
    "version": 3
   },
   "file_extension": ".py",
   "mimetype": "text/x-python",
   "name": "python",
   "nbconvert_exporter": "python",
   "pygments_lexer": "ipython3",
   "version": "3.5.1"
  }
 },
 "nbformat": 4,
 "nbformat_minor": 0
}
